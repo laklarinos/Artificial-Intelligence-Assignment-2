{
  "cells": [
    {
      "cell_type": "markdown",
      "metadata": {
        "id": "DuVcxQsqfCpV"
      },
      "source": [
        "# Imports"
      ]
    },
    {
      "cell_type": "code",
      "execution_count": 1,
      "metadata": {
        "colab": {
          "base_uri": "https://localhost:8080/"
        },
        "id": "np9Q6wkLAKDy",
        "outputId": "e1771bee-eaa4-4b65-9023-cf11bf15d9ee"
      },
      "outputs": [
        {
          "name": "stderr",
          "output_type": "stream",
          "text": [
            "/usr/local/lib/python3.8/dist-packages/torch/cuda/__init__.py:497: UserWarning: Can't initialize NVML\n",
            "  warnings.warn(\"Can't initialize NVML\")\n"
          ]
        }
      ],
      "source": [
        "import numpy as np\n",
        "import pandas as pd\n",
        "import seaborn as sns\n",
        "import matplotlib.pyplot as plt\n",
        "import nltk\n",
        "from sklearn.feature_extraction.text import CountVectorizer\n",
        "from sklearn.feature_extraction.text import TfidfVectorizer\n",
        "from sklearn.preprocessing import LabelBinarizer\n",
        "from nltk.corpus import stopwords\n",
        "from nltk.stem.porter import PorterStemmer\n",
        "from wordcloud import WordCloud,STOPWORDS\n",
        "from nltk.stem import WordNetLemmatizer\n",
        "from nltk.tokenize import word_tokenize,sent_tokenize\n",
        "from bs4 import BeautifulSoup\n",
        "import spacy\n",
        "import re,string,unicodedata\n",
        "from nltk.tokenize.toktok import ToktokTokenizer\n",
        "from nltk.stem import LancasterStemmer,WordNetLemmatizer\n",
        "from sklearn.linear_model import LogisticRegression,SGDClassifier\n",
        "from sklearn.naive_bayes import MultinomialNB\n",
        "from sklearn.svm import SVC\n",
        "from textblob import TextBlob\n",
        "from textblob import Word\n",
        "from sklearn.metrics import classification_report,confusion_matrix,accuracy_score\n",
        "from sklearn.model_selection import train_test_split\n",
        "import os\n",
        "import warnings\n",
        "import torch\n",
        "import torch.nn as nn"
      ]
    },
    {
      "cell_type": "code",
      "execution_count": 2,
      "metadata": {
        "colab": {
          "base_uri": "https://localhost:8080/"
        },
        "id": "ODxDi5CheVBI",
        "outputId": "0dcf2437-9d31-49d2-fd29-e39da46bf688"
      },
      "outputs": [
        {
          "name": "stderr",
          "output_type": "stream",
          "text": [
            "/usr/local/lib/python3.8/dist-packages/IPython/core/interactiveshell.py:3326: FutureWarning: In a future version of pandas all arguments of read_csv except for the argument 'filepath_or_buffer' will be keyword-only\n",
            "  exec(code_obj, self.user_global_ns, self.user_ns)\n"
          ]
        }
      ],
      "source": [
        "df = pd.read_csv('drive/MyDrive/AI_2_ergasia1/imdb-reviews.csv','\\t')\n",
        "test_df = None #put test set path here"
      ]
    },
    {
      "cell_type": "markdown",
      "metadata": {
        "id": "UF1cI5R9fFbf"
      },
      "source": [
        "# Tokenizer"
      ]
    },
    {
      "cell_type": "markdown",
      "metadata": {
        "id": "CJuz-KCufFaV"
      },
      "source": []
    },
    {
      "cell_type": "code",
      "execution_count": 3,
      "metadata": {
        "colab": {
          "base_uri": "https://localhost:8080/"
        },
        "id": "DjR3jG_peYXR",
        "outputId": "8c51d620-bde0-43ae-9615-5f8a2d31e9a4"
      },
      "outputs": [
        {
          "name": "stderr",
          "output_type": "stream",
          "text": [
            "[nltk_data] Downloading package stopwords to /root/nltk_data...\n",
            "[nltk_data]   Package stopwords is already up-to-date!\n"
          ]
        }
      ],
      "source": [
        "#Tokenization of text\n",
        "tokenizer=ToktokTokenizer()\n",
        "nltk.download('stopwords')\n",
        "stopword_list=nltk.corpus.stopwords.words('english')"
      ]
    },
    {
      "cell_type": "markdown",
      "metadata": {
        "id": "rN24WXf0fMdu"
      },
      "source": [
        "# **Text preprocessing**"
      ]
    },
    {
      "cell_type": "code",
      "execution_count": 4,
      "metadata": {
        "id": "1ovmM6j1ebDE"
      },
      "outputs": [],
      "source": [
        "#Define function for removing special characters\n",
        "def remove_special_characters(text, remove_digits=True):\n",
        "    pattern=r'[^a-zA-z0-9\\s]'\n",
        "    text=re.sub(pattern,'',text)\n",
        "    return text"
      ]
    },
    {
      "cell_type": "code",
      "execution_count": 5,
      "metadata": {
        "id": "5drNlEG-egaF"
      },
      "outputs": [],
      "source": [
        "stop=set(stopwords.words('english'))\n",
        "\n",
        "#removing the stopwords\n",
        "def remove_stopwords(text, is_lower_case=False):\n",
        "    tokens = tokenizer.tokenize(text)\n",
        "    tokens = [token.strip() for token in tokens]\n",
        "    if is_lower_case:\n",
        "        filtered_tokens = [token for token in tokens if token not in stopword_list]\n",
        "    else:\n",
        "        filtered_tokens = [token for token in tokens if token.lower() not in stopword_list]\n",
        "    filtered_text = ' '.join(filtered_tokens)    \n",
        "    return filtered_text"
      ]
    },
    {
      "cell_type": "code",
      "execution_count": 6,
      "metadata": {
        "id": "VEqZjnQlpXcO"
      },
      "outputs": [],
      "source": [
        "def lowercase(text):\n",
        "  return text.lower()"
      ]
    },
    {
      "cell_type": "code",
      "execution_count": 7,
      "metadata": {
        "id": "v8OKUalheiB1"
      },
      "outputs": [],
      "source": [
        "df['review']=df['review'].apply(lowercase)\n",
        "df['review']=df['review'].apply(remove_special_characters)\n",
        "# df['review']=df['review'].apply(simple_stemmer)\n",
        "df['review']=df['review'].apply(remove_stopwords)\n",
        "\n",
        "if test_df is not None:\n",
        "  test_df['review']=test_df['review'].apply(lowercase)\n",
        "  test_df['review']=test_df['review'].apply(remove_special_characters)\n",
        "  # test_df['review']=test_df['review'].apply(simple_stemmer)\n",
        "  test_df['review']=test_df['review'].apply(remove_stopwords)"
      ]
    },
    {
      "cell_type": "code",
      "execution_count": 8,
      "metadata": {
        "id": "NasX59dUENGA"
      },
      "outputs": [],
      "source": [
        "X = df.drop('rating', axis=1)\n",
        "Y = pd.DataFrame(columns=['rating'])\n",
        "Y['rating'] = df['rating']\n",
        "\n",
        "#classify movie reviews as negative or positive\n",
        "Y.loc[Y['rating'] <= 4.0, 'rating'] = 0\n",
        "Y.loc[Y['rating'] >= 7.0, 'rating'] = 1\n",
        "\n",
        "if test_df is not None:\n",
        "  X_test = test_df.drop('rating', axis=1)\n",
        "  Y_test = test_df[['rating']]\n",
        "\n",
        "  Y_test.loc[Y_test['rating'] <= 4, 'rating'] = 0\n",
        "  Y_test.loc[Y_test['rating'] >= 7, 'rating'] = 1\n",
        "\n",
        "  X_val = X_test\n",
        "  Y_val = Y_test"
      ]
    },
    {
      "cell_type": "code",
      "execution_count": 9,
      "metadata": {
        "id": "iQdxMaZjinA5"
      },
      "outputs": [],
      "source": [
        "#split data to train set and validation set\n",
        "if test_df is None:\n",
        "  X_train, X_val, Y_train, Y_val = train_test_split(X, Y, test_size=0.2)\n",
        "else:\n",
        "  X_train = X\n",
        "  Y_train = Y"
      ]
    },
    {
      "cell_type": "markdown",
      "metadata": {
        "id": "qxFJnyxEypxT"
      },
      "source": [
        "# Create Dictionary"
      ]
    },
    {
      "cell_type": "code",
      "execution_count": null,
      "metadata": {
        "colab": {
          "base_uri": "https://localhost:8080/"
        },
        "id": "2G_EyruRsQxn",
        "outputId": "128596d3-f649-48ba-9e94-1a2e0a8b5009"
      },
      "outputs": [
        {
          "name": "stdout",
          "output_type": "stream",
          "text": [
            "--2022-12-31 11:43:57--  http://nlp.stanford.edu/data/glove.6B.zip\n",
            "Resolving nlp.stanford.edu (nlp.stanford.edu)... 171.64.67.140\n",
            "Connecting to nlp.stanford.edu (nlp.stanford.edu)|171.64.67.140|:80... connected.\n",
            "HTTP request sent, awaiting response... 302 Found\n",
            "Location: https://nlp.stanford.edu/data/glove.6B.zip [following]\n",
            "--2022-12-31 11:43:57--  https://nlp.stanford.edu/data/glove.6B.zip\n",
            "Connecting to nlp.stanford.edu (nlp.stanford.edu)|171.64.67.140|:443... connected.\n",
            "HTTP request sent, awaiting response... 301 Moved Permanently\n",
            "Location: https://downloads.cs.stanford.edu/nlp/data/glove.6B.zip [following]\n",
            "--2022-12-31 11:43:57--  https://downloads.cs.stanford.edu/nlp/data/glove.6B.zip\n",
            "Resolving downloads.cs.stanford.edu (downloads.cs.stanford.edu)... 171.64.64.22\n",
            "Connecting to downloads.cs.stanford.edu (downloads.cs.stanford.edu)|171.64.64.22|:443... connected.\n",
            "HTTP request sent, awaiting response... 200 OK\n",
            "Length: 862182613 (822M) [application/zip]\n",
            "Saving to: ‘glove.6B.zip’\n",
            "\n",
            "glove.6B.zip        100%[===================>] 822.24M  5.02MB/s    in 2m 39s  \n",
            "\n",
            "2022-12-31 11:46:36 (5.18 MB/s) - ‘glove.6B.zip’ saved [862182613/862182613]\n",
            "\n",
            "Archive:  glove.6B.zip\n",
            "  inflating: glove.6B.50d.txt        \n",
            "  inflating: glove.6B.100d.txt       \n",
            "  inflating: glove.6B.200d.txt       \n",
            "  inflating: glove.6B.300d.txt       \n"
          ]
        }
      ],
      "source": [
        "!wget http://nlp.stanford.edu/data/glove.6B.zip\n",
        "!unzip glove*.zip"
      ]
    },
    {
      "cell_type": "code",
      "execution_count": null,
      "metadata": {
        "id": "Z12fXUYOsA6r"
      },
      "outputs": [],
      "source": [
        "from gensim.scripts.glove2word2vec import glove2word2vec\n",
        "import pandas as pd\n",
        "\n",
        "glove_input_file = 'glove.6B.50d.txt'\n",
        "w2v_output_file = 'glv_with_w2v_format.txt'\n",
        "\n",
        "glove2word2vec(glove_input_file, w2v_output_file)\n",
        "D_in = 50\n"
      ]
    },
    {
      "cell_type": "code",
      "execution_count": null,
      "metadata": {
        "id": "mwYhx9nP_PQp"
      },
      "outputs": [],
      "source": [
        "from gensim.scripts.glove2word2vec import glove2word2vec\n",
        "import pandas as pd\n",
        "\n",
        "glove_input_file = 'glove.6B.100d.txt'\n",
        "w2v_output_file = 'glv_with_w2v_format.txt'\n",
        "\n",
        "glove2word2vec(glove_input_file, w2v_output_file)\n",
        "D_in = 100"
      ]
    },
    {
      "cell_type": "code",
      "execution_count": null,
      "metadata": {
        "id": "Sk_rk19X_PwT"
      },
      "outputs": [],
      "source": [
        "from gensim.scripts.glove2word2vec import glove2word2vec\n",
        "import pandas as pd\n",
        "\n",
        "glove_input_file = 'glove.6B.200d.txt'\n",
        "w2v_output_file = 'glv_with_w2v_format.txt'\n",
        "\n",
        "glove2word2vec(glove_input_file, w2v_output_file)\n",
        "D_in = 200"
      ]
    },
    {
      "cell_type": "code",
      "execution_count": 10,
      "metadata": {
        "id": "JfFsdxR4_QoY"
      },
      "outputs": [],
      "source": [
        "from gensim.scripts.glove2word2vec import glove2word2vec\n",
        "import pandas as pd\n",
        "\n",
        "glove_input_file = 'glove.6B.300d.txt'\n",
        "w2v_output_file = 'glv_with_w2v_format.txt'\n",
        "\n",
        "glove2word2vec(glove_input_file, w2v_output_file)\n",
        "D_in = 300"
      ]
    },
    {
      "cell_type": "code",
      "execution_count": 13,
      "metadata": {
        "id": "pClLof-hqEz0"
      },
      "outputs": [],
      "source": [
        "with open(w2v_output_file, 'r', encoding='cp437') as infile:\n",
        "    w2v = infile.read().splitlines()\n",
        "\n",
        "w2v_dict = {}\n",
        "\n",
        "for word_vector_pair in w2v:\n",
        "    word_vector_pair = word_vector_pair.split()\n",
        "    word = word_vector_pair[0]\n",
        "    vector = word_vector_pair[1:]\n",
        "    w2v_dict.update({word: vector})"
      ]
    },
    {
      "cell_type": "markdown",
      "metadata": {
        "id": "DHrd2EwTyxsj"
      },
      "source": [
        "# For Input"
      ]
    },
    {
      "cell_type": "code",
      "execution_count": 11,
      "metadata": {
        "id": "TBhDFJFWu3Nq"
      },
      "outputs": [],
      "source": [
        "def for_input(data):\n",
        "  ret = []\n",
        "  for review in data:\n",
        "    total = np.zeros(D_in,)\n",
        "    count = 0\n",
        "    for word in review.split():\n",
        "      if word in w2v_dict:\n",
        "        count+=1\n",
        "        total = np.add(total, np.array(w2v_dict[word], dtype=np.float32))\n",
        "    ret.append(total/count)\n",
        "  return ret"
      ]
    },
    {
      "cell_type": "code",
      "execution_count": 414,
      "metadata": {
        "colab": {
          "base_uri": "https://localhost:8080/",
          "height": 189
        },
        "id": "UG58ZhkN1q4m",
        "outputId": "302a8867-9674-4dd3-a74c-64fc4a87701d"
      },
      "outputs": [
        {
          "ename": "TypeError",
          "evalue": "ignored",
          "output_type": "error",
          "traceback": [
            "\u001b[0;31m---------------------------------------------------------------------------\u001b[0m",
            "\u001b[0;31mTypeError\u001b[0m                                 Traceback (most recent call last)",
            "\u001b[0;32m<ipython-input-414-0f3a0db36308>\u001b[0m in \u001b[0;36m<module>\u001b[0;34m\u001b[0m\n\u001b[0;32m----> 1\u001b[0;31m \u001b[0mX_train\u001b[0m \u001b[0;34m=\u001b[0m \u001b[0mfor_input\u001b[0m\u001b[0;34m(\u001b[0m\u001b[0mX_train\u001b[0m\u001b[0;34m[\u001b[0m\u001b[0;34m'review'\u001b[0m\u001b[0;34m]\u001b[0m\u001b[0;34m)\u001b[0m\u001b[0;34m\u001b[0m\u001b[0;34m\u001b[0m\u001b[0m\n\u001b[0m\u001b[1;32m      2\u001b[0m \u001b[0mX_val\u001b[0m \u001b[0;34m=\u001b[0m \u001b[0mfor_input\u001b[0m\u001b[0;34m(\u001b[0m\u001b[0mX_val\u001b[0m\u001b[0;34m[\u001b[0m\u001b[0;34m'review'\u001b[0m\u001b[0;34m]\u001b[0m\u001b[0;34m)\u001b[0m\u001b[0;34m\u001b[0m\u001b[0;34m\u001b[0m\u001b[0m\n",
            "\u001b[0;31mTypeError\u001b[0m: list indices must be integers or slices, not str"
          ]
        }
      ],
      "source": [
        "X_train = for_input(X_train['review'])\n",
        "X_val = for_input(X_val['review'])"
      ]
    },
    {
      "cell_type": "markdown",
      "metadata": {
        "id": "-2uaBLrRzDEk"
      },
      "source": [
        "#Tensor Convertion"
      ]
    },
    {
      "cell_type": "code",
      "execution_count": 516,
      "metadata": {
        "id": "Mz2ECYegduLC"
      },
      "outputs": [],
      "source": [
        "X_train_tensor = torch.tensor(np.array(X_train), dtype = torch.float)\n",
        "Y_train_tensor = torch.tensor(Y_train.values, dtype=torch.long)\n",
        "\n",
        "X_val_tensor = torch.tensor(np.array(X_val), dtype = torch.float)\n",
        "Y_val_tensor = torch.tensor(Y_val.values, dtype=torch.long)"
      ]
    },
    {
      "cell_type": "markdown",
      "metadata": {
        "id": "8qPNQwBIDjcJ"
      },
      "source": [
        "# Parameters"
      ]
    },
    {
      "cell_type": "code",
      "execution_count": 507,
      "metadata": {
        "id": "80G4c3C3BXWv"
      },
      "outputs": [],
      "source": [
        "# Define layer sizes\n",
        "H1 = 128\n",
        "H2 = 64\n",
        "H3 = 32\n",
        "H4 = 32\n",
        "D_out = 2"
      ]
    },
    {
      "cell_type": "code",
      "execution_count": 508,
      "metadata": {
        "id": "HV_fwnwVBc9c"
      },
      "outputs": [],
      "source": [
        "learning_rate = 0.01 #typical"
      ]
    },
    {
      "cell_type": "code",
      "execution_count": 509,
      "metadata": {
        "id": "8SEkhX3mMxgq"
      },
      "outputs": [],
      "source": [
        "batch = 32"
      ]
    },
    {
      "cell_type": "code",
      "execution_count": 510,
      "metadata": {
        "id": "M1Apw1hXC18_"
      },
      "outputs": [],
      "source": [
        "epochs = 15"
      ]
    },
    {
      "cell_type": "code",
      "execution_count": 511,
      "metadata": {
        "id": "hmNvlZeIx7sb"
      },
      "outputs": [],
      "source": [
        "from torch.nn.functional import softmax"
      ]
    },
    {
      "cell_type": "markdown",
      "metadata": {
        "id": "6VehRe3A3lYL"
      },
      "source": [
        "# Init Neural Network 1"
      ]
    },
    {
      "cell_type": "code",
      "execution_count": 238,
      "metadata": {
        "id": "556j-cUhdxAw"
      },
      "outputs": [],
      "source": [
        "# class Net(nn.Module):\n",
        "#     def __init__(self, D_in, H1, H2, H3, H4, D_out):\n",
        "#         super(Net, self).__init__()\n",
        "#         self.linear1 = nn.Linear(D_in, H1)\n",
        "#         self.linear2 = nn.Linear(H1, H2)\n",
        "#         self.linear3 = nn.Linear(H2, H3)\n",
        "#         self.linear4 = nn.Linear(H3, H4)\n",
        "#         self.linear5 = nn.Linear(H4, D_out)\n",
        "\n",
        "#     def forward(self, x):\n",
        "#         h1 = self.linear1(x)\n",
        "#         h2 = self.linear2(h1)\n",
        "#         h3 = self.linear3(h2)\n",
        "#         h4 = self.linear4(h3)\n",
        "#         out = softmax(self.linear5(h4), dim=1)\n",
        "#         return out\n",
        "\n",
        "# model = Net(D_in, H1, H2, H3, H4, D_out)"
      ]
    },
    {
      "cell_type": "code",
      "execution_count": 253,
      "metadata": {
        "id": "JVEC70q3R5Em"
      },
      "outputs": [],
      "source": [
        "# class Net(nn.Module):\n",
        "#     def __init__(self, D_in, H1, H2, H3, D_out):\n",
        "#         super(Net, self).__init__()\n",
        "#         self.linear1 = nn.Linear(D_in, H1)\n",
        "#         self.linear2 = nn.Linear(H1, H2)\n",
        "#         self.linear3 = nn.Linear(H2, H3)\n",
        "#         self.linear4 = nn.Linear(H3, D_out)\n",
        "\n",
        "#     def forward(self, x):\n",
        "#         h1 = self.linear1(x)\n",
        "#         h2 = self.linear2(h1)\n",
        "#         h3 = self.linear3(h2)\n",
        "#         out = softmax(self.linear4(h3), dim=1)\n",
        "#         return out\n",
        "\n",
        "# model = Net(D_in, H1, H2, H3, D_out)"
      ]
    },
    {
      "cell_type": "code",
      "execution_count": 492,
      "metadata": {
        "id": "V9VF1G8kXJ14"
      },
      "outputs": [],
      "source": [
        "class Net(nn.Module):\n",
        "    def __init__(self, D_in, H1, H2, D_out):\n",
        "        super(Net, self).__init__()\n",
        "        self.linear1 = nn.Linear(D_in, H1)\n",
        "        self.linear2 = nn.Linear(H1, H2)\n",
        "        self.linear3 = nn.Linear(H2, D_out)\n",
        "\n",
        "    def forward(self, x):\n",
        "        h1 = self.linear1(x)\n",
        "        h2 = self.linear2(h1)\n",
        "        out = softmax(self.linear3(h2), dim=1)\n",
        "        return out\n",
        "\n",
        "model = Net(D_in, H1, H2, D_out)"
      ]
    },
    {
      "cell_type": "code",
      "execution_count": 301,
      "metadata": {
        "id": "GhvRHK81dGzp"
      },
      "outputs": [],
      "source": [
        "# class Net(nn.Module):\n",
        "#     def __init__(self, D_in, H1, D_out):\n",
        "#         super(Net, self).__init__()\n",
        "#         self.linear1 = nn.Linear(D_in, H1)\n",
        "#         self.linear2 = nn.Linear(H1, H2)\n",
        "\n",
        "#     def forward(self, x):\n",
        "#         h1 = self.linear1(x)\n",
        "#         out = softmax(self.linear2(h1), dim=1)\n",
        "#         return out\n",
        "\n",
        "# model = Net(D_in, H1, D_out)"
      ]
    },
    {
      "cell_type": "code",
      "execution_count": 493,
      "metadata": {
        "id": "lazISPrPBzyC"
      },
      "outputs": [],
      "source": [
        "loss_func = torch.nn.CrossEntropyLoss()\n",
        "optimizer = torch.optim.SGD(model.parameters(), lr=learning_rate)"
      ]
    },
    {
      "cell_type": "code",
      "execution_count": 512,
      "metadata": {
        "id": "3vXJk35pBw-S"
      },
      "outputs": [],
      "source": [
        "# Initialise dataloader\n",
        "dataset = torch.utils.data.TensorDataset(X_train_tensor, Y_train_tensor)\n",
        "dataloader = torch.utils.data.DataLoader(dataset, batch_size = batch, shuffle=True)\n",
        "\n",
        "test_dataset = torch.utils.data.TensorDataset(X_val_tensor, Y_val_tensor)\n",
        "test_dataloader = torch.utils.data.DataLoader(test_dataset, batch_size = batch, shuffle=True)"
      ]
    },
    {
      "cell_type": "code",
      "execution_count": 504,
      "metadata": {
        "id": "_paTp0rmjEgY"
      },
      "outputs": [],
      "source": [
        "# def calculate_acc(output, target):\n",
        "#     output2 = torch.round(output)\n",
        "#     correct = torch.sum(output2==target).float()\n",
        "#     acc = (correct/len(target)).item()\n",
        "#     return acc"
      ]
    },
    {
      "cell_type": "code",
      "execution_count": 484,
      "metadata": {
        "id": "EVzp0cQZo5cE"
      },
      "outputs": [],
      "source": [
        "from sklearn.metrics import f1_score"
      ]
    },
    {
      "cell_type": "markdown",
      "metadata": {
        "id": "RNzhnXauSRET"
      },
      "source": [
        "# Train Model"
      ]
    },
    {
      "cell_type": "code",
      "execution_count": 514,
      "metadata": {
        "id": "rYlXwKsHyOF6"
      },
      "outputs": [],
      "source": [
        "def train_model(model, dt):\n",
        "\n",
        "  epoch_loss = 0\n",
        "  epoch_acc = 0\n",
        "  list_train_pred=[]\n",
        "  list_train_real_res=[]\n",
        "  prob_to_return = []\n",
        "\n",
        "  for batch, (x_batch, y_batch) in enumerate(dt):\n",
        "    y_pred = model(x_batch)\n",
        "    loss = loss_func(y_pred, torch.flatten(y_batch))\n",
        "    simple_y_pred = []\n",
        "    detached_y_pred_numpy = y_pred.detach().numpy()\n",
        "    for item in detached_y_pred_numpy:\n",
        "      if item[0] > item[1]:\n",
        "        simple_y_pred.append(0)\n",
        "      else:\n",
        "        simple_y_pred.append(1)\n",
        "      prob_to_return.append(item)\n",
        "\n",
        "    list_train_pred.append(simple_y_pred)\n",
        "    list_train_real_res.append(y_batch)\n",
        "    \n",
        "    #Delete previously stored gradients\n",
        "    optimizer.zero_grad()\n",
        "    \n",
        "    #calculate loss\n",
        "    epoch_loss += loss.item()\n",
        "    #epoch_acc += calculate_acc(y_batch, y_pred)\n",
        "\n",
        "    #Perform backpropagation starting from the loss calculated in this epoch\n",
        "    loss.backward()\n",
        "\n",
        "    #Update model's weights based on the gradients calculated during backprop\n",
        "    optimizer.step()\n",
        "  \n",
        "  epoch_loss /= len(dt)\n",
        "  epoch_acc /= len(dt)\n",
        "  return epoch_loss, epoch_acc, list_train_pred, list_train_real_res, prob_to_return"
      ]
    },
    {
      "cell_type": "markdown",
      "metadata": {
        "id": "GS5lBvdhoeEp"
      },
      "source": [
        "# Evaluate Model"
      ]
    },
    {
      "cell_type": "code",
      "execution_count": 513,
      "metadata": {
        "id": "k4V8r8sVhTgm"
      },
      "outputs": [],
      "source": [
        "def evaluate_model(model, dt):\n",
        "\n",
        "  eval_loss = 0\n",
        "  eval_acc = 0\n",
        "  list_test_pred=[]\n",
        "  list_test_real_res=[]\n",
        "  prob_to_return = []\n",
        "\n",
        "  for batch, (x_batch, y_batch) in enumerate(dt):\n",
        "\n",
        "    y_pred = model(x_batch)\n",
        "    loss = loss_func(y_pred, torch.flatten(y_batch))\n",
        "\n",
        "    simple_y_pred = []\n",
        "    detached_y_pred_numpy = y_pred.detach().numpy()\n",
        "\n",
        "    for item in detached_y_pred_numpy:\n",
        "      if item[0] > item[1]:\n",
        "        simple_y_pred.append(0)\n",
        "      else:\n",
        "        simple_y_pred.append(1)\n",
        "      prob_to_return.append(item)\n",
        "      \n",
        "    list_test_pred.append(simple_y_pred)\n",
        "    list_test_real_res.append(y_batch)\n",
        "\n",
        "    #calculate loss\n",
        "    eval_loss += loss.item()\n",
        "    #eval_acc += calculate_acc(y_batch, y_pred)\n",
        "  \n",
        "  eval_loss /= len(dt)\n",
        "  eval_acc /= len(dt)\n",
        "  return eval_loss, eval_acc, list_test_pred, list_test_real_res, prob_to_return\n"
      ]
    },
    {
      "cell_type": "code",
      "execution_count": 497,
      "metadata": {
        "id": "cwciitTwohp7"
      },
      "outputs": [],
      "source": [
        "import matplotlib.pyplot as plt\n",
        "from sklearn.metrics import f1_score\n",
        "from sklearn.metrics import roc_curve, auc, roc_auc_score"
      ]
    },
    {
      "cell_type": "markdown",
      "metadata": {
        "id": "eLouG-_8oh30"
      },
      "source": [
        "# Train loop"
      ]
    },
    {
      "cell_type": "code",
      "execution_count": 515,
      "metadata": {
        "colab": {
          "base_uri": "https://localhost:8080/",
          "height": 687
        },
        "id": "1gYKPjnczz3I",
        "outputId": "c1f47399-e548-4748-95a6-b90c1d359937"
      },
      "outputs": [
        {
          "name": "stdout",
          "output_type": "stream",
          "text": [
            "Epoch: 01\n",
            "\tTrain Loss: 0.474\n",
            "\t Val. Loss: 0.491\n",
            "F1 Score Train: 0.8310797732614407\n",
            "F1 Score Validation: 0.8307998012916045\n",
            "Epoch: 02\n",
            "\tTrain Loss: 0.472\n",
            "\t Val. Loss: 0.466\n",
            "F1 Score Train: 0.8326349382544749\n",
            "F1 Score Validation: 0.8367784931661584\n",
            "Epoch: 03\n",
            "\tTrain Loss: 0.473\n",
            "\t Val. Loss: 0.471\n",
            "F1 Score Train: 0.8317557251908396\n",
            "F1 Score Validation: 0.843920908708456\n",
            "Epoch: 04\n"
          ]
        },
        {
          "ename": "KeyboardInterrupt",
          "evalue": "ignored",
          "output_type": "error",
          "traceback": [
            "\u001b[0;31m---------------------------------------------------------------------------\u001b[0m",
            "\u001b[0;31mKeyboardInterrupt\u001b[0m                         Traceback (most recent call last)",
            "\u001b[0;32m<ipython-input-515-097be914e63b>\u001b[0m in \u001b[0;36m<module>\u001b[0;34m\u001b[0m\n\u001b[1;32m      8\u001b[0m \u001b[0;34m\u001b[0m\u001b[0m\n\u001b[1;32m      9\u001b[0m   \u001b[0mprint\u001b[0m\u001b[0;34m(\u001b[0m\u001b[0;34mf'Epoch: {epoch+1:02}'\u001b[0m\u001b[0;34m)\u001b[0m\u001b[0;34m\u001b[0m\u001b[0;34m\u001b[0m\u001b[0m\n\u001b[0;32m---> 10\u001b[0;31m   \u001b[0mtrain_loss\u001b[0m\u001b[0;34m,\u001b[0m \u001b[0mtrain_acc\u001b[0m\u001b[0;34m,\u001b[0m \u001b[0mlist_train_pred\u001b[0m\u001b[0;34m,\u001b[0m \u001b[0mlist_train_real_res\u001b[0m\u001b[0;34m,\u001b[0m \u001b[0mprob_train\u001b[0m \u001b[0;34m=\u001b[0m \u001b[0mtrain_model\u001b[0m\u001b[0;34m(\u001b[0m\u001b[0mmodel\u001b[0m\u001b[0;34m,\u001b[0m \u001b[0mdataloader\u001b[0m\u001b[0;34m)\u001b[0m\u001b[0;34m\u001b[0m\u001b[0;34m\u001b[0m\u001b[0m\n\u001b[0m\u001b[1;32m     11\u001b[0m   \u001b[0;32mwith\u001b[0m \u001b[0mtorch\u001b[0m\u001b[0;34m.\u001b[0m\u001b[0mno_grad\u001b[0m\u001b[0;34m(\u001b[0m\u001b[0;34m)\u001b[0m\u001b[0;34m:\u001b[0m\u001b[0;34m\u001b[0m\u001b[0;34m\u001b[0m\u001b[0m\n\u001b[1;32m     12\u001b[0m     \u001b[0mvalid_loss\u001b[0m\u001b[0;34m,\u001b[0m \u001b[0mvalid_acc\u001b[0m\u001b[0;34m,\u001b[0m \u001b[0mlist_test_pred\u001b[0m\u001b[0;34m,\u001b[0m \u001b[0mlist_test_real_res\u001b[0m\u001b[0;34m,\u001b[0m \u001b[0mprob_test\u001b[0m \u001b[0;34m=\u001b[0m \u001b[0mevaluate_model\u001b[0m\u001b[0;34m(\u001b[0m\u001b[0mmodel\u001b[0m\u001b[0;34m,\u001b[0m \u001b[0mtest_dataloader\u001b[0m\u001b[0;34m)\u001b[0m\u001b[0;34m\u001b[0m\u001b[0;34m\u001b[0m\u001b[0m\n",
            "\u001b[0;32m<ipython-input-514-30372d27573b>\u001b[0m in \u001b[0;36mtrain_model\u001b[0;34m(model, dt)\u001b[0m\n\u001b[1;32m     30\u001b[0m \u001b[0;34m\u001b[0m\u001b[0m\n\u001b[1;32m     31\u001b[0m     \u001b[0;31m#Perform backpropagation starting from the loss calculated in this epoch\u001b[0m\u001b[0;34m\u001b[0m\u001b[0;34m\u001b[0m\u001b[0;34m\u001b[0m\u001b[0m\n\u001b[0;32m---> 32\u001b[0;31m     \u001b[0mloss\u001b[0m\u001b[0;34m.\u001b[0m\u001b[0mbackward\u001b[0m\u001b[0;34m(\u001b[0m\u001b[0;34m)\u001b[0m\u001b[0;34m\u001b[0m\u001b[0;34m\u001b[0m\u001b[0m\n\u001b[0m\u001b[1;32m     33\u001b[0m \u001b[0;34m\u001b[0m\u001b[0m\n\u001b[1;32m     34\u001b[0m     \u001b[0;31m#Update model's weights based on the gradients calculated during backprop\u001b[0m\u001b[0;34m\u001b[0m\u001b[0;34m\u001b[0m\u001b[0;34m\u001b[0m\u001b[0m\n",
            "\u001b[0;32m/usr/local/lib/python3.8/dist-packages/torch/_tensor.py\u001b[0m in \u001b[0;36mbackward\u001b[0;34m(self, gradient, retain_graph, create_graph, inputs)\u001b[0m\n\u001b[1;32m    485\u001b[0m                 \u001b[0minputs\u001b[0m\u001b[0;34m=\u001b[0m\u001b[0minputs\u001b[0m\u001b[0;34m,\u001b[0m\u001b[0;34m\u001b[0m\u001b[0;34m\u001b[0m\u001b[0m\n\u001b[1;32m    486\u001b[0m             )\n\u001b[0;32m--> 487\u001b[0;31m         torch.autograd.backward(\n\u001b[0m\u001b[1;32m    488\u001b[0m             \u001b[0mself\u001b[0m\u001b[0;34m,\u001b[0m \u001b[0mgradient\u001b[0m\u001b[0;34m,\u001b[0m \u001b[0mretain_graph\u001b[0m\u001b[0;34m,\u001b[0m \u001b[0mcreate_graph\u001b[0m\u001b[0;34m,\u001b[0m \u001b[0minputs\u001b[0m\u001b[0;34m=\u001b[0m\u001b[0minputs\u001b[0m\u001b[0;34m\u001b[0m\u001b[0;34m\u001b[0m\u001b[0m\n\u001b[1;32m    489\u001b[0m         )\n",
            "\u001b[0;32m/usr/local/lib/python3.8/dist-packages/torch/autograd/__init__.py\u001b[0m in \u001b[0;36mbackward\u001b[0;34m(tensors, grad_tensors, retain_graph, create_graph, grad_variables, inputs)\u001b[0m\n\u001b[1;32m    195\u001b[0m     \u001b[0;31m# some Python versions print out the first line of a multi-line function\u001b[0m\u001b[0;34m\u001b[0m\u001b[0;34m\u001b[0m\u001b[0;34m\u001b[0m\u001b[0m\n\u001b[1;32m    196\u001b[0m     \u001b[0;31m# calls in the traceback and some print out the last line\u001b[0m\u001b[0;34m\u001b[0m\u001b[0;34m\u001b[0m\u001b[0;34m\u001b[0m\u001b[0m\n\u001b[0;32m--> 197\u001b[0;31m     Variable._execution_engine.run_backward(  # Calls into the C++ engine to run the backward pass\n\u001b[0m\u001b[1;32m    198\u001b[0m         \u001b[0mtensors\u001b[0m\u001b[0;34m,\u001b[0m \u001b[0mgrad_tensors_\u001b[0m\u001b[0;34m,\u001b[0m \u001b[0mretain_graph\u001b[0m\u001b[0;34m,\u001b[0m \u001b[0mcreate_graph\u001b[0m\u001b[0;34m,\u001b[0m \u001b[0minputs\u001b[0m\u001b[0;34m,\u001b[0m\u001b[0;34m\u001b[0m\u001b[0;34m\u001b[0m\u001b[0m\n\u001b[1;32m    199\u001b[0m         allow_unreachable=True, accumulate_grad=True)  # Calls into the C++ engine to run the backward pass\n",
            "\u001b[0;31mKeyboardInterrupt\u001b[0m: "
          ]
        }
      ],
      "source": [
        "list_f1=[]\n",
        "list_f1_train=[]\n",
        "list_sample_size=[]\n",
        "prob_train = []\n",
        "prob_test = []\n",
        "\n",
        "for epoch in range(epochs):\n",
        "\n",
        "  print(f'Epoch: {epoch+1:02}')\n",
        "  train_loss, train_acc, list_train_pred, list_train_real_res, prob_train = train_model(model, dataloader)\n",
        "  with torch.no_grad():   \n",
        "    valid_loss, valid_acc, list_test_pred, list_test_real_res, prob_test = evaluate_model(model, test_dataloader)\n",
        "\n",
        "  print(f'\\tTrain Loss: {train_loss:.3f}') #| Train acc: {train_acc:.3f}')\n",
        "  print(f'\\t Val. Loss: {valid_loss:.3f}') #| Test acc: {valid_acc:.3f}')\n",
        "  \n",
        "  #train f1\n",
        "  list_train_pred = np.concatenate(list_train_pred)\n",
        "  list_train_real_res = np.concatenate(list_train_real_res)\n",
        "\n",
        "  #test f1\n",
        "  list_test_pred = np.concatenate(list_test_pred)\n",
        "  list_test_real_res = np.concatenate(list_test_real_res)\n",
        "\n",
        "  #prob_train = np.stack(prob_train)\n",
        "  #prob_test = np.stack(prob_test)\n",
        "\n",
        "  #evaluate f1 score\n",
        "  f1_train = f1_score(list_train_real_res, list_train_pred)\n",
        "  f1 = f1_score(list_test_real_res, list_test_pred)\n",
        "\n",
        "  #print scores\n",
        "  print(\"F1 Score Train: \" + str(f1_train))\n",
        "  print(\"F1 Score Validation: \" + str(f1))\n",
        "  \n",
        "  list_f1.append(f1)\n",
        "  list_f1_train.append(f1_train)\n",
        "  list_sample_size.append(epoch)"
      ]
    },
    {
      "cell_type": "code",
      "execution_count": 369,
      "metadata": {
        "colab": {
          "base_uri": "https://localhost:8080/"
        },
        "id": "K_fFFzeoYCTr",
        "outputId": "bc1b8c19-106c-4abb-e7b1-2cfe7dfcb51a"
      },
      "outputs": [
        {
          "name": "stdout",
          "output_type": "stream",
          "text": [
            "       rating\n",
            "38224     0.0\n",
            "16325     0.0\n",
            "8657      1.0\n",
            "41859     1.0\n",
            "40211     1.0\n",
            "42093     1.0\n",
            "39542     1.0\n",
            "23567     0.0\n",
            "1852      1.0\n",
            "43635     1.0\n"
          ]
        }
      ],
      "source": [
        "print(Y_val[0:10])"
      ]
    },
    {
      "cell_type": "code",
      "execution_count": 489,
      "metadata": {
        "id": "fM2lrsAjYX8J"
      },
      "outputs": [],
      "source": [
        "prob_test = np.stack(prob_test)"
      ]
    },
    {
      "cell_type": "code",
      "execution_count": null,
      "metadata": {
        "id": "xxTEJ8RagRDt"
      },
      "outputs": [],
      "source": [
        "print(prob_test)"
      ]
    },
    {
      "cell_type": "code",
      "execution_count": 490,
      "metadata": {
        "colab": {
          "base_uri": "https://localhost:8080/",
          "height": 561
        },
        "id": "5T_BSy_2l7Vo",
        "outputId": "7fc38b42-2e63-4998-ce0c-8b498272c79a"
      },
      "outputs": [
        {
          "data": {
            "text/plain": [
              "<matplotlib.legend.Legend at 0x7fa1810c07f0>"
            ]
          },
          "execution_count": 490,
          "metadata": {},
          "output_type": "execute_result"
        },
        {
          "data": {
            "image/png": "[encoded data removed]",
            "text/plain": [
              "<Figure size 432x288 with 1 Axes>"
            ]
          },
          "metadata": {
            "needs_background": "light"
          },
          "output_type": "display_data"
        },
        {
          "data": {
            "image/png": "[encoded data removed]",
            "text/plain": [
              "<Figure size 432x288 with 1 Axes>"
            ]
          },
          "metadata": {
            "needs_background": "light"
          },
          "output_type": "display_data"
        }
      ],
      "source": [
        "plt.plot(list_sample_size, list_f1)\n",
        "plt.plot(list_sample_size, list_f1_train)\n",
        "\n",
        "plt.ylim(ymin=0)\n",
        "plt.legend([\"Validation\",\"Training\"])\n",
        "\n",
        "# Compute ROC curve\n",
        "fpr_test, tpr_test, thresholds_test = roc_curve(Y_val, prob_test[:,1])\n",
        "\n",
        "roc_auc_test = auc(fpr_test, tpr_test)\n",
        "plt.figure()\n",
        "plt.plot(fpr_test, tpr_test, color='darkorange', label='ROC curve (area = %0.2f)' % roc_auc_test)\n",
        "plt.plot([0, 1], [0, 1], color='navy', linestyle='--')\n",
        "plt.xlim([-0.01, 1.0])\n",
        "plt.ylim([0.0, 1.01])\n",
        "plt.xlabel('False Positive Rate')\n",
        "plt.ylabel('True Positive Rate')\n",
        "plt.title('ROC For Val Set')\n",
        "plt.legend(loc=\"lower right\")"
      ]
    }
  ],
  "metadata": {
    "colab": {
      "provenance": []
    },
    "gpuClass": "standard",
    "kernelspec": {
      "display_name": "Python 3",
      "name": "python3"
    },
    "language_info": {
      "name": "python"
    }
  },
  "nbformat": 4,
  "nbformat_minor": 0
}
